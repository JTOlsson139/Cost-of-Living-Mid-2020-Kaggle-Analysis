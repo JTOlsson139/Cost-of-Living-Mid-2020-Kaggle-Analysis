{
 "cells": [
  {
   "cell_type": "code",
   "execution_count": 1,
   "id": "867861e8",
   "metadata": {},
   "outputs": [],
   "source": [
    "# Data Exploration and Cleaning\n",
    "# First import dependencies\n",
    "import pandas as pd\n",
    "import matplotlib.pyplot as plt\n",
    "import scipy.stats as sts\n",
    "import numpy as np"
   ]
  },
  {
   "cell_type": "code",
   "execution_count": 2,
   "id": "e17e5fa8",
   "metadata": {},
   "outputs": [],
   "source": [
    "# Read tables off the numbeo.com site\n",
    "# Original sites had 2 positions and 1 had the data table for cost of living, position 0 did not\n",
    "# Position 0 had \n",
    "df_2019 = pd.read_html(\"https://www.numbeo.com/cost-of-living/rankings_by_country.jsp?title=2019-mid\")[1]\n",
    "df_2021 = pd.read_html(\"https://www.numbeo.com/cost-of-living/rankings_by_country.jsp?title=2021-mid\")[1]"
   ]
  },
  {
   "cell_type": "code",
   "execution_count": 3,
   "id": "8494117b",
   "metadata": {},
   "outputs": [
    {
     "data": {
      "text/html": [
       "<div>\n",
       "<style scoped>\n",
       "    .dataframe tbody tr th:only-of-type {\n",
       "        vertical-align: middle;\n",
       "    }\n",
       "\n",
       "    .dataframe tbody tr th {\n",
       "        vertical-align: top;\n",
       "    }\n",
       "\n",
       "    .dataframe thead th {\n",
       "        text-align: right;\n",
       "    }\n",
       "</style>\n",
       "<table border=\"1\" class=\"dataframe\">\n",
       "  <thead>\n",
       "    <tr style=\"text-align: right;\">\n",
       "      <th></th>\n",
       "      <th>Rank</th>\n",
       "      <th>Country</th>\n",
       "      <th>Cost of Living Index</th>\n",
       "      <th>Rent Index</th>\n",
       "      <th>Cost of Living Plus Rent Index</th>\n",
       "      <th>Groceries Index</th>\n",
       "      <th>Restaurant Price Index</th>\n",
       "      <th>Local Purchasing Power Index</th>\n",
       "      <th>Year</th>\n",
       "    </tr>\n",
       "  </thead>\n",
       "  <tbody>\n",
       "    <tr>\n",
       "      <th>0</th>\n",
       "      <td>NaN</td>\n",
       "      <td>Bermuda</td>\n",
       "      <td>147.51</td>\n",
       "      <td>102.54</td>\n",
       "      <td>126.71</td>\n",
       "      <td>148.59</td>\n",
       "      <td>162.07</td>\n",
       "      <td>68.82</td>\n",
       "      <td>2021</td>\n",
       "    </tr>\n",
       "    <tr>\n",
       "      <th>1</th>\n",
       "      <td>NaN</td>\n",
       "      <td>Switzerland</td>\n",
       "      <td>125.02</td>\n",
       "      <td>54.92</td>\n",
       "      <td>92.59</td>\n",
       "      <td>129.17</td>\n",
       "      <td>122.92</td>\n",
       "      <td>102.77</td>\n",
       "      <td>2021</td>\n",
       "    </tr>\n",
       "    <tr>\n",
       "      <th>2</th>\n",
       "      <td>NaN</td>\n",
       "      <td>Norway</td>\n",
       "      <td>103.56</td>\n",
       "      <td>36.91</td>\n",
       "      <td>72.72</td>\n",
       "      <td>99.51</td>\n",
       "      <td>106.72</td>\n",
       "      <td>73.55</td>\n",
       "      <td>2021</td>\n",
       "    </tr>\n",
       "    <tr>\n",
       "      <th>3</th>\n",
       "      <td>NaN</td>\n",
       "      <td>Iceland</td>\n",
       "      <td>99.67</td>\n",
       "      <td>46.62</td>\n",
       "      <td>75.12</td>\n",
       "      <td>93.51</td>\n",
       "      <td>106.16</td>\n",
       "      <td>67.30</td>\n",
       "      <td>2021</td>\n",
       "    </tr>\n",
       "    <tr>\n",
       "      <th>4</th>\n",
       "      <td>NaN</td>\n",
       "      <td>Barbados</td>\n",
       "      <td>94.44</td>\n",
       "      <td>22.53</td>\n",
       "      <td>61.17</td>\n",
       "      <td>89.23</td>\n",
       "      <td>78.91</td>\n",
       "      <td>30.74</td>\n",
       "      <td>2021</td>\n",
       "    </tr>\n",
       "    <tr>\n",
       "      <th>...</th>\n",
       "      <td>...</td>\n",
       "      <td>...</td>\n",
       "      <td>...</td>\n",
       "      <td>...</td>\n",
       "      <td>...</td>\n",
       "      <td>...</td>\n",
       "      <td>...</td>\n",
       "      <td>...</td>\n",
       "      <td>...</td>\n",
       "    </tr>\n",
       "    <tr>\n",
       "      <th>134</th>\n",
       "      <td>NaN</td>\n",
       "      <td>Kosovo (Disputed Territory)</td>\n",
       "      <td>27.83</td>\n",
       "      <td>8.76</td>\n",
       "      <td>19.00</td>\n",
       "      <td>25.29</td>\n",
       "      <td>20.92</td>\n",
       "      <td>39.05</td>\n",
       "      <td>2021</td>\n",
       "    </tr>\n",
       "    <tr>\n",
       "      <th>135</th>\n",
       "      <td>NaN</td>\n",
       "      <td>Afghanistan</td>\n",
       "      <td>27.64</td>\n",
       "      <td>3.64</td>\n",
       "      <td>16.54</td>\n",
       "      <td>19.02</td>\n",
       "      <td>16.34</td>\n",
       "      <td>20.53</td>\n",
       "      <td>2021</td>\n",
       "    </tr>\n",
       "    <tr>\n",
       "      <th>136</th>\n",
       "      <td>NaN</td>\n",
       "      <td>Uzbekistan</td>\n",
       "      <td>27.10</td>\n",
       "      <td>9.64</td>\n",
       "      <td>19.02</td>\n",
       "      <td>27.06</td>\n",
       "      <td>21.87</td>\n",
       "      <td>19.48</td>\n",
       "      <td>2021</td>\n",
       "    </tr>\n",
       "    <tr>\n",
       "      <th>137</th>\n",
       "      <td>NaN</td>\n",
       "      <td>India</td>\n",
       "      <td>24.60</td>\n",
       "      <td>5.67</td>\n",
       "      <td>15.84</td>\n",
       "      <td>26.08</td>\n",
       "      <td>18.14</td>\n",
       "      <td>42.16</td>\n",
       "      <td>2021</td>\n",
       "    </tr>\n",
       "    <tr>\n",
       "      <th>138</th>\n",
       "      <td>NaN</td>\n",
       "      <td>Pakistan</td>\n",
       "      <td>21.88</td>\n",
       "      <td>4.57</td>\n",
       "      <td>13.87</td>\n",
       "      <td>19.71</td>\n",
       "      <td>16.89</td>\n",
       "      <td>24.56</td>\n",
       "      <td>2021</td>\n",
       "    </tr>\n",
       "  </tbody>\n",
       "</table>\n",
       "<p>139 rows × 9 columns</p>\n",
       "</div>"
      ],
      "text/plain": [
       "     Rank                      Country  Cost of Living Index  Rent Index  \\\n",
       "0     NaN                      Bermuda                147.51      102.54   \n",
       "1     NaN                  Switzerland                125.02       54.92   \n",
       "2     NaN                       Norway                103.56       36.91   \n",
       "3     NaN                      Iceland                 99.67       46.62   \n",
       "4     NaN                     Barbados                 94.44       22.53   \n",
       "..    ...                          ...                   ...         ...   \n",
       "134   NaN  Kosovo (Disputed Territory)                 27.83        8.76   \n",
       "135   NaN                  Afghanistan                 27.64        3.64   \n",
       "136   NaN                   Uzbekistan                 27.10        9.64   \n",
       "137   NaN                        India                 24.60        5.67   \n",
       "138   NaN                     Pakistan                 21.88        4.57   \n",
       "\n",
       "     Cost of Living Plus Rent Index  Groceries Index  Restaurant Price Index  \\\n",
       "0                            126.71           148.59                  162.07   \n",
       "1                             92.59           129.17                  122.92   \n",
       "2                             72.72            99.51                  106.72   \n",
       "3                             75.12            93.51                  106.16   \n",
       "4                             61.17            89.23                   78.91   \n",
       "..                              ...              ...                     ...   \n",
       "134                           19.00            25.29                   20.92   \n",
       "135                           16.54            19.02                   16.34   \n",
       "136                           19.02            27.06                   21.87   \n",
       "137                           15.84            26.08                   18.14   \n",
       "138                           13.87            19.71                   16.89   \n",
       "\n",
       "     Local Purchasing Power Index  Year  \n",
       "0                           68.82  2021  \n",
       "1                          102.77  2021  \n",
       "2                           73.55  2021  \n",
       "3                           67.30  2021  \n",
       "4                           30.74  2021  \n",
       "..                            ...   ...  \n",
       "134                         39.05  2021  \n",
       "135                         20.53  2021  \n",
       "136                         19.48  2021  \n",
       "137                         42.16  2021  \n",
       "138                         24.56  2021  \n",
       "\n",
       "[139 rows x 9 columns]"
      ]
     },
     "execution_count": 3,
     "metadata": {},
     "output_type": "execute_result"
    }
   ],
   "source": [
    "# Drop 'Rank' column\n",
    "df_2021['Year']='2021'\n",
    "df_2021"
   ]
  },
  {
   "cell_type": "code",
   "execution_count": 4,
   "id": "2bce0eea",
   "metadata": {},
   "outputs": [
    {
     "data": {
      "text/html": [
       "<div>\n",
       "<style scoped>\n",
       "    .dataframe tbody tr th:only-of-type {\n",
       "        vertical-align: middle;\n",
       "    }\n",
       "\n",
       "    .dataframe tbody tr th {\n",
       "        vertical-align: top;\n",
       "    }\n",
       "\n",
       "    .dataframe thead th {\n",
       "        text-align: right;\n",
       "    }\n",
       "</style>\n",
       "<table border=\"1\" class=\"dataframe\">\n",
       "  <thead>\n",
       "    <tr style=\"text-align: right;\">\n",
       "      <th></th>\n",
       "      <th>Rank</th>\n",
       "      <th>Country</th>\n",
       "      <th>Cost of Living Index</th>\n",
       "      <th>Rent Index</th>\n",
       "      <th>Cost of Living Plus Rent Index</th>\n",
       "      <th>Groceries Index</th>\n",
       "      <th>Restaurant Price Index</th>\n",
       "      <th>Local Purchasing Power Index</th>\n",
       "      <th>Year</th>\n",
       "    </tr>\n",
       "  </thead>\n",
       "  <tbody>\n",
       "    <tr>\n",
       "      <th>0</th>\n",
       "      <td>NaN</td>\n",
       "      <td>Cayman Islands</td>\n",
       "      <td>141.64</td>\n",
       "      <td>74.40</td>\n",
       "      <td>109.49</td>\n",
       "      <td>157.93</td>\n",
       "      <td>105.03</td>\n",
       "      <td>137.88</td>\n",
       "      <td>2019</td>\n",
       "    </tr>\n",
       "    <tr>\n",
       "      <th>1</th>\n",
       "      <td>NaN</td>\n",
       "      <td>Bermuda</td>\n",
       "      <td>138.22</td>\n",
       "      <td>87.62</td>\n",
       "      <td>114.03</td>\n",
       "      <td>124.87</td>\n",
       "      <td>150.40</td>\n",
       "      <td>79.87</td>\n",
       "      <td>2019</td>\n",
       "    </tr>\n",
       "    <tr>\n",
       "      <th>2</th>\n",
       "      <td>NaN</td>\n",
       "      <td>Switzerland</td>\n",
       "      <td>122.67</td>\n",
       "      <td>50.22</td>\n",
       "      <td>88.03</td>\n",
       "      <td>121.29</td>\n",
       "      <td>124.04</td>\n",
       "      <td>127.76</td>\n",
       "      <td>2019</td>\n",
       "    </tr>\n",
       "    <tr>\n",
       "      <th>3</th>\n",
       "      <td>NaN</td>\n",
       "      <td>Norway</td>\n",
       "      <td>104.49</td>\n",
       "      <td>37.26</td>\n",
       "      <td>72.34</td>\n",
       "      <td>93.94</td>\n",
       "      <td>115.59</td>\n",
       "      <td>98.00</td>\n",
       "      <td>2019</td>\n",
       "    </tr>\n",
       "    <tr>\n",
       "      <th>4</th>\n",
       "      <td>NaN</td>\n",
       "      <td>Us Virgin Islands</td>\n",
       "      <td>97.23</td>\n",
       "      <td>48.24</td>\n",
       "      <td>73.81</td>\n",
       "      <td>87.42</td>\n",
       "      <td>90.74</td>\n",
       "      <td>54.58</td>\n",
       "      <td>2019</td>\n",
       "    </tr>\n",
       "    <tr>\n",
       "      <th>...</th>\n",
       "      <td>...</td>\n",
       "      <td>...</td>\n",
       "      <td>...</td>\n",
       "      <td>...</td>\n",
       "      <td>...</td>\n",
       "      <td>...</td>\n",
       "      <td>...</td>\n",
       "      <td>...</td>\n",
       "      <td>...</td>\n",
       "    </tr>\n",
       "    <tr>\n",
       "      <th>131</th>\n",
       "      <td>NaN</td>\n",
       "      <td>Tunisia</td>\n",
       "      <td>25.43</td>\n",
       "      <td>5.18</td>\n",
       "      <td>15.75</td>\n",
       "      <td>23.45</td>\n",
       "      <td>14.05</td>\n",
       "      <td>37.63</td>\n",
       "      <td>2019</td>\n",
       "    </tr>\n",
       "    <tr>\n",
       "      <th>132</th>\n",
       "      <td>NaN</td>\n",
       "      <td>Syria</td>\n",
       "      <td>25.31</td>\n",
       "      <td>5.44</td>\n",
       "      <td>15.81</td>\n",
       "      <td>22.82</td>\n",
       "      <td>20.77</td>\n",
       "      <td>12.37</td>\n",
       "      <td>2019</td>\n",
       "    </tr>\n",
       "    <tr>\n",
       "      <th>133</th>\n",
       "      <td>NaN</td>\n",
       "      <td>India</td>\n",
       "      <td>25.14</td>\n",
       "      <td>5.99</td>\n",
       "      <td>15.98</td>\n",
       "      <td>25.16</td>\n",
       "      <td>17.51</td>\n",
       "      <td>61.73</td>\n",
       "      <td>2019</td>\n",
       "    </tr>\n",
       "    <tr>\n",
       "      <th>134</th>\n",
       "      <td>NaN</td>\n",
       "      <td>Afghanistan</td>\n",
       "      <td>24.51</td>\n",
       "      <td>4.29</td>\n",
       "      <td>14.85</td>\n",
       "      <td>18.83</td>\n",
       "      <td>17.12</td>\n",
       "      <td>28.87</td>\n",
       "      <td>2019</td>\n",
       "    </tr>\n",
       "    <tr>\n",
       "      <th>135</th>\n",
       "      <td>NaN</td>\n",
       "      <td>Pakistan</td>\n",
       "      <td>18.58</td>\n",
       "      <td>4.02</td>\n",
       "      <td>11.62</td>\n",
       "      <td>16.50</td>\n",
       "      <td>13.78</td>\n",
       "      <td>36.10</td>\n",
       "      <td>2019</td>\n",
       "    </tr>\n",
       "  </tbody>\n",
       "</table>\n",
       "<p>136 rows × 9 columns</p>\n",
       "</div>"
      ],
      "text/plain": [
       "     Rank            Country  Cost of Living Index  Rent Index  \\\n",
       "0     NaN     Cayman Islands                141.64       74.40   \n",
       "1     NaN            Bermuda                138.22       87.62   \n",
       "2     NaN        Switzerland                122.67       50.22   \n",
       "3     NaN             Norway                104.49       37.26   \n",
       "4     NaN  Us Virgin Islands                 97.23       48.24   \n",
       "..    ...                ...                   ...         ...   \n",
       "131   NaN            Tunisia                 25.43        5.18   \n",
       "132   NaN              Syria                 25.31        5.44   \n",
       "133   NaN              India                 25.14        5.99   \n",
       "134   NaN        Afghanistan                 24.51        4.29   \n",
       "135   NaN           Pakistan                 18.58        4.02   \n",
       "\n",
       "     Cost of Living Plus Rent Index  Groceries Index  Restaurant Price Index  \\\n",
       "0                            109.49           157.93                  105.03   \n",
       "1                            114.03           124.87                  150.40   \n",
       "2                             88.03           121.29                  124.04   \n",
       "3                             72.34            93.94                  115.59   \n",
       "4                             73.81            87.42                   90.74   \n",
       "..                              ...              ...                     ...   \n",
       "131                           15.75            23.45                   14.05   \n",
       "132                           15.81            22.82                   20.77   \n",
       "133                           15.98            25.16                   17.51   \n",
       "134                           14.85            18.83                   17.12   \n",
       "135                           11.62            16.50                   13.78   \n",
       "\n",
       "     Local Purchasing Power Index  Year  \n",
       "0                          137.88  2019  \n",
       "1                           79.87  2019  \n",
       "2                          127.76  2019  \n",
       "3                           98.00  2019  \n",
       "4                           54.58  2019  \n",
       "..                            ...   ...  \n",
       "131                         37.63  2019  \n",
       "132                         12.37  2019  \n",
       "133                         61.73  2019  \n",
       "134                         28.87  2019  \n",
       "135                         36.10  2019  \n",
       "\n",
       "[136 rows x 9 columns]"
      ]
     },
     "execution_count": 4,
     "metadata": {},
     "output_type": "execute_result"
    }
   ],
   "source": [
    "df_2019['Year']='2019'\n",
    "df_2019"
   ]
  },
  {
   "cell_type": "code",
   "execution_count": 5,
   "id": "a4cb2bd2",
   "metadata": {},
   "outputs": [],
   "source": [
    "# Drop column with 'Rank' \n",
    "df_2021 = df_2021.drop('Rank',axis=1)"
   ]
  },
  {
   "cell_type": "code",
   "execution_count": 6,
   "id": "b69b97ca",
   "metadata": {},
   "outputs": [],
   "source": [
    "df_2019 = df_2019.drop('Rank',axis=1)"
   ]
  },
  {
   "cell_type": "code",
   "execution_count": 7,
   "id": "55a9eab4",
   "metadata": {},
   "outputs": [
    {
     "data": {
      "text/html": [
       "<div>\n",
       "<style scoped>\n",
       "    .dataframe tbody tr th:only-of-type {\n",
       "        vertical-align: middle;\n",
       "    }\n",
       "\n",
       "    .dataframe tbody tr th {\n",
       "        vertical-align: top;\n",
       "    }\n",
       "\n",
       "    .dataframe thead th {\n",
       "        text-align: right;\n",
       "    }\n",
       "</style>\n",
       "<table border=\"1\" class=\"dataframe\">\n",
       "  <thead>\n",
       "    <tr style=\"text-align: right;\">\n",
       "      <th></th>\n",
       "      <th>Country</th>\n",
       "      <th>Year</th>\n",
       "      <th>Cost of Living Index</th>\n",
       "      <th>Rent Index</th>\n",
       "      <th>Cost of Living Plus Rent Index</th>\n",
       "      <th>Groceries Index</th>\n",
       "      <th>Restaurant Price Index</th>\n",
       "      <th>Local Purchasing Power Index</th>\n",
       "    </tr>\n",
       "  </thead>\n",
       "  <tbody>\n",
       "    <tr>\n",
       "      <th>0</th>\n",
       "      <td>Bermuda</td>\n",
       "      <td>2021</td>\n",
       "      <td>147.51</td>\n",
       "      <td>102.54</td>\n",
       "      <td>126.71</td>\n",
       "      <td>148.59</td>\n",
       "      <td>162.07</td>\n",
       "      <td>68.82</td>\n",
       "    </tr>\n",
       "    <tr>\n",
       "      <th>1</th>\n",
       "      <td>Switzerland</td>\n",
       "      <td>2021</td>\n",
       "      <td>125.02</td>\n",
       "      <td>54.92</td>\n",
       "      <td>92.59</td>\n",
       "      <td>129.17</td>\n",
       "      <td>122.92</td>\n",
       "      <td>102.77</td>\n",
       "    </tr>\n",
       "    <tr>\n",
       "      <th>2</th>\n",
       "      <td>Norway</td>\n",
       "      <td>2021</td>\n",
       "      <td>103.56</td>\n",
       "      <td>36.91</td>\n",
       "      <td>72.72</td>\n",
       "      <td>99.51</td>\n",
       "      <td>106.72</td>\n",
       "      <td>73.55</td>\n",
       "    </tr>\n",
       "    <tr>\n",
       "      <th>3</th>\n",
       "      <td>Iceland</td>\n",
       "      <td>2021</td>\n",
       "      <td>99.67</td>\n",
       "      <td>46.62</td>\n",
       "      <td>75.12</td>\n",
       "      <td>93.51</td>\n",
       "      <td>106.16</td>\n",
       "      <td>67.30</td>\n",
       "    </tr>\n",
       "    <tr>\n",
       "      <th>4</th>\n",
       "      <td>Barbados</td>\n",
       "      <td>2021</td>\n",
       "      <td>94.44</td>\n",
       "      <td>22.53</td>\n",
       "      <td>61.17</td>\n",
       "      <td>89.23</td>\n",
       "      <td>78.91</td>\n",
       "      <td>30.74</td>\n",
       "    </tr>\n",
       "    <tr>\n",
       "      <th>5</th>\n",
       "      <td>Jersey</td>\n",
       "      <td>2021</td>\n",
       "      <td>94.43</td>\n",
       "      <td>64.03</td>\n",
       "      <td>80.36</td>\n",
       "      <td>78.51</td>\n",
       "      <td>96.55</td>\n",
       "      <td>77.12</td>\n",
       "    </tr>\n",
       "    <tr>\n",
       "      <th>6</th>\n",
       "      <td>Denmark</td>\n",
       "      <td>2021</td>\n",
       "      <td>88.53</td>\n",
       "      <td>34.51</td>\n",
       "      <td>63.53</td>\n",
       "      <td>71.55</td>\n",
       "      <td>104.06</td>\n",
       "      <td>86.43</td>\n",
       "    </tr>\n",
       "    <tr>\n",
       "      <th>7</th>\n",
       "      <td>Luxembourg</td>\n",
       "      <td>2021</td>\n",
       "      <td>85.30</td>\n",
       "      <td>64.19</td>\n",
       "      <td>75.53</td>\n",
       "      <td>79.55</td>\n",
       "      <td>93.53</td>\n",
       "      <td>87.76</td>\n",
       "    </tr>\n",
       "    <tr>\n",
       "      <th>8</th>\n",
       "      <td>Israel</td>\n",
       "      <td>2021</td>\n",
       "      <td>84.77</td>\n",
       "      <td>32.60</td>\n",
       "      <td>60.63</td>\n",
       "      <td>73.31</td>\n",
       "      <td>91.74</td>\n",
       "      <td>65.91</td>\n",
       "    </tr>\n",
       "    <tr>\n",
       "      <th>9</th>\n",
       "      <td>Bahamas</td>\n",
       "      <td>2021</td>\n",
       "      <td>84.32</td>\n",
       "      <td>35.03</td>\n",
       "      <td>61.51</td>\n",
       "      <td>70.63</td>\n",
       "      <td>83.61</td>\n",
       "      <td>46.07</td>\n",
       "    </tr>\n",
       "  </tbody>\n",
       "</table>\n",
       "</div>"
      ],
      "text/plain": [
       "       Country  Year  Cost of Living Index  Rent Index  \\\n",
       "0      Bermuda  2021                147.51      102.54   \n",
       "1  Switzerland  2021                125.02       54.92   \n",
       "2       Norway  2021                103.56       36.91   \n",
       "3      Iceland  2021                 99.67       46.62   \n",
       "4     Barbados  2021                 94.44       22.53   \n",
       "5       Jersey  2021                 94.43       64.03   \n",
       "6      Denmark  2021                 88.53       34.51   \n",
       "7   Luxembourg  2021                 85.30       64.19   \n",
       "8       Israel  2021                 84.77       32.60   \n",
       "9      Bahamas  2021                 84.32       35.03   \n",
       "\n",
       "   Cost of Living Plus Rent Index  Groceries Index  Restaurant Price Index  \\\n",
       "0                          126.71           148.59                  162.07   \n",
       "1                           92.59           129.17                  122.92   \n",
       "2                           72.72            99.51                  106.72   \n",
       "3                           75.12            93.51                  106.16   \n",
       "4                           61.17            89.23                   78.91   \n",
       "5                           80.36            78.51                   96.55   \n",
       "6                           63.53            71.55                  104.06   \n",
       "7                           75.53            79.55                   93.53   \n",
       "8                           60.63            73.31                   91.74   \n",
       "9                           61.51            70.63                   83.61   \n",
       "\n",
       "   Local Purchasing Power Index  \n",
       "0                         68.82  \n",
       "1                        102.77  \n",
       "2                         73.55  \n",
       "3                         67.30  \n",
       "4                         30.74  \n",
       "5                         77.12  \n",
       "6                         86.43  \n",
       "7                         87.76  \n",
       "8                         65.91  \n",
       "9                         46.07  "
      ]
     },
     "execution_count": 7,
     "metadata": {},
     "output_type": "execute_result"
    }
   ],
   "source": [
    "# Remove 'Year' column and insert at position 0; .insert(position, name, column)\n",
    "# Pandas pop documentation \n",
    "# LINK: https://pandas.pydata.org/pandas-docs/stable/reference/api/pandas.DataFrame.pop.html?highlight=pop\n",
    "first_column = df_2021.pop('Year')\n",
    "df_2021.insert(1,'Year', first_column)\n",
    "df_2021.head(10)"
   ]
  },
  {
   "cell_type": "code",
   "execution_count": 8,
   "id": "26dd7183",
   "metadata": {},
   "outputs": [
    {
     "data": {
      "text/html": [
       "<div>\n",
       "<style scoped>\n",
       "    .dataframe tbody tr th:only-of-type {\n",
       "        vertical-align: middle;\n",
       "    }\n",
       "\n",
       "    .dataframe tbody tr th {\n",
       "        vertical-align: top;\n",
       "    }\n",
       "\n",
       "    .dataframe thead th {\n",
       "        text-align: right;\n",
       "    }\n",
       "</style>\n",
       "<table border=\"1\" class=\"dataframe\">\n",
       "  <thead>\n",
       "    <tr style=\"text-align: right;\">\n",
       "      <th></th>\n",
       "      <th>Country</th>\n",
       "      <th>Year</th>\n",
       "      <th>Cost of Living Index</th>\n",
       "      <th>Rent Index</th>\n",
       "      <th>Cost of Living Plus Rent Index</th>\n",
       "      <th>Groceries Index</th>\n",
       "      <th>Restaurant Price Index</th>\n",
       "      <th>Local Purchasing Power Index</th>\n",
       "    </tr>\n",
       "  </thead>\n",
       "  <tbody>\n",
       "    <tr>\n",
       "      <th>0</th>\n",
       "      <td>Cayman Islands</td>\n",
       "      <td>2019</td>\n",
       "      <td>141.64</td>\n",
       "      <td>74.40</td>\n",
       "      <td>109.49</td>\n",
       "      <td>157.93</td>\n",
       "      <td>105.03</td>\n",
       "      <td>137.88</td>\n",
       "    </tr>\n",
       "    <tr>\n",
       "      <th>1</th>\n",
       "      <td>Bermuda</td>\n",
       "      <td>2019</td>\n",
       "      <td>138.22</td>\n",
       "      <td>87.62</td>\n",
       "      <td>114.03</td>\n",
       "      <td>124.87</td>\n",
       "      <td>150.40</td>\n",
       "      <td>79.87</td>\n",
       "    </tr>\n",
       "    <tr>\n",
       "      <th>2</th>\n",
       "      <td>Switzerland</td>\n",
       "      <td>2019</td>\n",
       "      <td>122.67</td>\n",
       "      <td>50.22</td>\n",
       "      <td>88.03</td>\n",
       "      <td>121.29</td>\n",
       "      <td>124.04</td>\n",
       "      <td>127.76</td>\n",
       "    </tr>\n",
       "    <tr>\n",
       "      <th>3</th>\n",
       "      <td>Norway</td>\n",
       "      <td>2019</td>\n",
       "      <td>104.49</td>\n",
       "      <td>37.26</td>\n",
       "      <td>72.34</td>\n",
       "      <td>93.94</td>\n",
       "      <td>115.59</td>\n",
       "      <td>98.00</td>\n",
       "    </tr>\n",
       "    <tr>\n",
       "      <th>4</th>\n",
       "      <td>Us Virgin Islands</td>\n",
       "      <td>2019</td>\n",
       "      <td>97.23</td>\n",
       "      <td>48.24</td>\n",
       "      <td>73.81</td>\n",
       "      <td>87.42</td>\n",
       "      <td>90.74</td>\n",
       "      <td>54.58</td>\n",
       "    </tr>\n",
       "    <tr>\n",
       "      <th>5</th>\n",
       "      <td>Iceland</td>\n",
       "      <td>2019</td>\n",
       "      <td>97.22</td>\n",
       "      <td>45.08</td>\n",
       "      <td>72.29</td>\n",
       "      <td>84.63</td>\n",
       "      <td>111.46</td>\n",
       "      <td>92.03</td>\n",
       "    </tr>\n",
       "    <tr>\n",
       "      <th>6</th>\n",
       "      <td>Bahamas</td>\n",
       "      <td>2019</td>\n",
       "      <td>85.96</td>\n",
       "      <td>35.40</td>\n",
       "      <td>61.79</td>\n",
       "      <td>68.84</td>\n",
       "      <td>87.20</td>\n",
       "      <td>56.21</td>\n",
       "    </tr>\n",
       "    <tr>\n",
       "      <th>7</th>\n",
       "      <td>Japan</td>\n",
       "      <td>2019</td>\n",
       "      <td>85.52</td>\n",
       "      <td>28.08</td>\n",
       "      <td>58.06</td>\n",
       "      <td>84.69</td>\n",
       "      <td>50.05</td>\n",
       "      <td>97.57</td>\n",
       "    </tr>\n",
       "    <tr>\n",
       "      <th>8</th>\n",
       "      <td>Luxembourg</td>\n",
       "      <td>2019</td>\n",
       "      <td>84.68</td>\n",
       "      <td>55.44</td>\n",
       "      <td>70.70</td>\n",
       "      <td>71.60</td>\n",
       "      <td>92.91</td>\n",
       "      <td>107.89</td>\n",
       "    </tr>\n",
       "    <tr>\n",
       "      <th>9</th>\n",
       "      <td>Denmark</td>\n",
       "      <td>2019</td>\n",
       "      <td>83.88</td>\n",
       "      <td>33.73</td>\n",
       "      <td>59.90</td>\n",
       "      <td>64.02</td>\n",
       "      <td>100.63</td>\n",
       "      <td>110.69</td>\n",
       "    </tr>\n",
       "  </tbody>\n",
       "</table>\n",
       "</div>"
      ],
      "text/plain": [
       "             Country  Year  Cost of Living Index  Rent Index  \\\n",
       "0     Cayman Islands  2019                141.64       74.40   \n",
       "1            Bermuda  2019                138.22       87.62   \n",
       "2        Switzerland  2019                122.67       50.22   \n",
       "3             Norway  2019                104.49       37.26   \n",
       "4  Us Virgin Islands  2019                 97.23       48.24   \n",
       "5            Iceland  2019                 97.22       45.08   \n",
       "6            Bahamas  2019                 85.96       35.40   \n",
       "7              Japan  2019                 85.52       28.08   \n",
       "8         Luxembourg  2019                 84.68       55.44   \n",
       "9            Denmark  2019                 83.88       33.73   \n",
       "\n",
       "   Cost of Living Plus Rent Index  Groceries Index  Restaurant Price Index  \\\n",
       "0                          109.49           157.93                  105.03   \n",
       "1                          114.03           124.87                  150.40   \n",
       "2                           88.03           121.29                  124.04   \n",
       "3                           72.34            93.94                  115.59   \n",
       "4                           73.81            87.42                   90.74   \n",
       "5                           72.29            84.63                  111.46   \n",
       "6                           61.79            68.84                   87.20   \n",
       "7                           58.06            84.69                   50.05   \n",
       "8                           70.70            71.60                   92.91   \n",
       "9                           59.90            64.02                  100.63   \n",
       "\n",
       "   Local Purchasing Power Index  \n",
       "0                        137.88  \n",
       "1                         79.87  \n",
       "2                        127.76  \n",
       "3                         98.00  \n",
       "4                         54.58  \n",
       "5                         92.03  \n",
       "6                         56.21  \n",
       "7                         97.57  \n",
       "8                        107.89  \n",
       "9                        110.69  "
      ]
     },
     "execution_count": 8,
     "metadata": {},
     "output_type": "execute_result"
    }
   ],
   "source": [
    "first_column = df_2019.pop('Year')\n",
    "df_2019.insert(1,'Year', first_column)\n",
    "df_2019.head(10)"
   ]
  },
  {
   "cell_type": "code",
   "execution_count": 9,
   "id": "dfb471b4",
   "metadata": {},
   "outputs": [
    {
     "data": {
      "text/plain": [
       "Ethiopia    1\n",
       "Jamaica     1\n",
       "Guyana      1\n",
       "Albania     1\n",
       "Bermuda     1\n",
       "           ..\n",
       "Hungary     1\n",
       "Cuba        1\n",
       "Macao       1\n",
       "Belize      1\n",
       "Poland      1\n",
       "Name: Country, Length: 139, dtype: int64"
      ]
     },
     "execution_count": 9,
     "metadata": {},
     "output_type": "execute_result"
    }
   ],
   "source": [
    "df_2021.Country.value_counts()"
   ]
  },
  {
   "cell_type": "code",
   "execution_count": 10,
   "id": "c4342081",
   "metadata": {},
   "outputs": [
    {
     "data": {
      "text/plain": [
       "Ethiopia          1\n",
       "Malta             1\n",
       "Tanzania          1\n",
       "Singapore         1\n",
       "Nepal             1\n",
       "                 ..\n",
       "Cuba              1\n",
       "Belize            1\n",
       "Seychelles        1\n",
       "Czech Republic    1\n",
       "Poland            1\n",
       "Name: Country, Length: 136, dtype: int64"
      ]
     },
     "execution_count": 10,
     "metadata": {},
     "output_type": "execute_result"
    }
   ],
   "source": [
    "df_2019.Country.value_counts()\n"
   ]
  },
  {
   "cell_type": "code",
   "execution_count": 11,
   "id": "3b44b184",
   "metadata": {},
   "outputs": [
    {
     "data": {
      "image/png": "[encoded data removed]",
      "text/plain": [
       "<Figure size 432x288 with 1 Axes>"
      ]
     },
     "metadata": {
      "needs_background": "light"
     },
     "output_type": "display_data"
    },
    {
     "data": {
      "image/png": "[encoded data removed]",
      "text/plain": [
       "<Figure size 432x288 with 1 Axes>"
      ]
     },
     "metadata": {
      "needs_background": "light"
     },
     "output_type": "display_data"
    }
   ],
   "source": [
    "# Scatterplot Mid-2021\n",
    "plot1 = df_2021.plot.scatter(x=\"Cost of Living Index\", y=\"Rent Index\", s=None, c=None)\n",
    "plot11 = df_2021.plot.scatter(x=\"Rent Index\", y=\"Cost of Living Plus Rent Index\", s=None, c=None)"
   ]
  },
  {
   "cell_type": "code",
   "execution_count": 12,
   "id": "ae9a06f2",
   "metadata": {
    "scrolled": true
   },
   "outputs": [
    {
     "data": {
      "image/png": "[encoded data removed]",
      "text/plain": [
       "<Figure size 432x288 with 1 Axes>"
      ]
     },
     "metadata": {
      "needs_background": "light"
     },
     "output_type": "display_data"
    },
    {
     "data": {
      "image/png": "[encoded data removed]",
      "text/plain": [
       "<Figure size 432x288 with 1 Axes>"
      ]
     },
     "metadata": {
      "needs_background": "light"
     },
     "output_type": "display_data"
    }
   ],
   "source": [
    "# Scatterplot Mid-2019\n",
    "plot2 = df_2019.plot.scatter(x=\"Cost of Living Index\", y=\"Rent Index\", s=None, c=None)\n",
    "plot12 = df_2019.plot.scatter(x=\"Rent Index\", y=\"Cost of Living Plus Rent Index\", s=None, c=None)"
   ]
  },
  {
   "cell_type": "code",
   "execution_count": 13,
   "id": "85a57ae5",
   "metadata": {},
   "outputs": [
    {
     "data": {
      "image/png": "[encoded data removed]",
      "text/plain": [
       "<Figure size 432x288 with 1 Axes>"
      ]
     },
     "metadata": {
      "needs_background": "light"
     },
     "output_type": "display_data"
    }
   ],
   "source": [
    "# Scatterplot Mid-2021\n",
    "plot3 = df_2021.plot.scatter(x=\"Cost of Living Index\", y=\"Cost of Living Plus Rent Index\", s=None, c=None)"
   ]
  },
  {
   "cell_type": "code",
   "execution_count": 14,
   "id": "cc43d387",
   "metadata": {},
   "outputs": [
    {
     "data": {
      "image/png": "[encoded data removed]",
      "text/plain": [
       "<Figure size 432x288 with 1 Axes>"
      ]
     },
     "metadata": {
      "needs_background": "light"
     },
     "output_type": "display_data"
    }
   ],
   "source": [
    "# Scatterplot Mid-2019\n",
    "plot4 = df_2019.plot.scatter(x=\"Cost of Living Index\", y=\"Cost of Living Plus Rent Index\", s=None, c=None)"
   ]
  },
  {
   "cell_type": "code",
   "execution_count": 15,
   "id": "29e26db3",
   "metadata": {},
   "outputs": [
    {
     "data": {
      "image/png": "[encoded data removed]",
      "text/plain": [
       "<Figure size 432x288 with 1 Axes>"
      ]
     },
     "metadata": {
      "needs_background": "light"
     },
     "output_type": "display_data"
    }
   ],
   "source": [
    "# Scatterplot Mid-2021 as cost of living index goes up groceries index goes up\n",
    "x = df_2021[\"Cost of Living Index\"]\n",
    "y = df_2021[\"Groceries Index\"]\n",
    "plt.scatter(x, y)\n",
    "z = np.polyfit(x, y, 1)\n",
    "p = np.poly1d(z)\n",
    "plt.plot(x,p(x),\"r--\")\n",
    "plt.grid()\n",
    "plt.show()"
   ]
  },
  {
   "cell_type": "code",
   "execution_count": 16,
   "id": "24fd2ad2",
   "metadata": {
    "scrolled": false
   },
   "outputs": [
    {
     "data": {
      "text/plain": [
       "0      141.64\n",
       "1      138.22\n",
       "2      122.67\n",
       "3      104.49\n",
       "4       97.23\n",
       "        ...  \n",
       "131     25.43\n",
       "132     25.31\n",
       "133     25.14\n",
       "134     24.51\n",
       "135     18.58\n",
       "Name: Cost of Living Index, Length: 136, dtype: float64"
      ]
     },
     "execution_count": 16,
     "metadata": {},
     "output_type": "execute_result"
    }
   ],
   "source": [
    "df_2019[(\"Cost of Living Index\")]"
   ]
  },
  {
   "cell_type": "code",
   "execution_count": 17,
   "id": "cfaac8ee",
   "metadata": {},
   "outputs": [
    {
     "data": {
      "text/plain": [
       "0      147.51\n",
       "1      125.02\n",
       "2      103.56\n",
       "3       99.67\n",
       "4       94.44\n",
       "        ...  \n",
       "134     27.83\n",
       "135     27.64\n",
       "136     27.10\n",
       "137     24.60\n",
       "138     21.88\n",
       "Name: Cost of Living Index, Length: 139, dtype: float64"
      ]
     },
     "execution_count": 17,
     "metadata": {},
     "output_type": "execute_result"
    }
   ],
   "source": [
    "df_2021[\"Cost of Living Index\"]"
   ]
  },
  {
   "cell_type": "code",
   "execution_count": 18,
   "id": "3cf112b2",
   "metadata": {
    "scrolled": false
   },
   "outputs": [
    {
     "data": {
      "image/png": "[encoded data removed]",
      "text/plain": [
       "<Figure size 432x288 with 1 Axes>"
      ]
     },
     "metadata": {
      "needs_background": "light"
     },
     "output_type": "display_data"
    }
   ],
   "source": [
    "# Scatterplot Mid-2019\n",
    "x = df_2019[\"Cost of Living Index\"]\n",
    "y = df_2019[\"Groceries Index\"]\n",
    "plt.scatter(x, y)\n",
    "z = np.polyfit(x, y, 1)\n",
    "p = np.poly1d(z)\n",
    "plt.plot(x,p(x),\"r--\")\n",
    "plt.grid()\n",
    "plt.show()"
   ]
  },
  {
   "cell_type": "code",
   "execution_count": 19,
   "id": "02e2d10e",
   "metadata": {},
   "outputs": [
    {
     "data": {
      "image/png": "[encoded data removed]",
      "text/plain": [
       "<Figure size 432x288 with 1 Axes>"
      ]
     },
     "metadata": {
      "needs_background": "light"
     },
     "output_type": "display_data"
    }
   ],
   "source": [
    "# Scatterplot Mid-2019\n",
    "x = df_2021[\"Cost of Living Index\"]\n",
    "y = df_2021[\"Groceries Index\"]\n",
    "plt.scatter(x, y)\n",
    "z = np.polyfit(x, y, 1)\n",
    "p = np.poly1d(z)\n",
    "plt.plot(x,p(x),\"r--\")\n",
    "plt.grid()\n",
    "plt.show()"
   ]
  },
  {
   "cell_type": "code",
   "execution_count": 20,
   "id": "cd767764",
   "metadata": {},
   "outputs": [
    {
     "ename": "SyntaxError",
     "evalue": "positional argument follows keyword argument (<ipython-input-20-0c86685ef45e>, line 3)",
     "output_type": "error",
     "traceback": [
      "\u001b[1;36m  File \u001b[1;32m\"<ipython-input-20-0c86685ef45e>\"\u001b[1;36m, line \u001b[1;32m3\u001b[0m\n\u001b[1;33m    df.plot.pie(y, figsize= 5,5)\u001b[0m\n\u001b[1;37m                              ^\u001b[0m\n\u001b[1;31mSyntaxError\u001b[0m\u001b[1;31m:\u001b[0m positional argument follows keyword argument\n"
     ]
    }
   ],
   "source": [
    "# LINK: https://pandas.pydata.org/pandas-docs/stable/reference/api/pandas.DataFrame.plot.pie.html\n",
    "y = df_2021[\"Cost of Living Index\"]\n",
    "df.plot.pie(y, figsize= 5,5)"
   ]
  },
  {
   "cell_type": "code",
   "execution_count": 21,
   "id": "c562158e",
   "metadata": {},
   "outputs": [
    {
     "data": {
      "text/plain": [
       "[<matplotlib.lines.Line2D at 0x159bca16f70>]"
      ]
     },
     "execution_count": 21,
     "metadata": {},
     "output_type": "execute_result"
    },
    {
     "data": {
      "image/png": "[encoded data removed]",
      "text/plain": [
       "<Figure size 432x288 with 1 Axes>"
      ]
     },
     "metadata": {
      "needs_background": "light"
     },
     "output_type": "display_data"
    }
   ],
   "source": [
    "# \n",
    "z = np.polyfit(x, y, 1)\n",
    "p = np.poly1d(z)\n",
    "plt.plot(x,p(x),\"r--\")"
   ]
  },
  {
   "cell_type": "code",
   "execution_count": 22,
   "id": "3ee0c759",
   "metadata": {},
   "outputs": [
    {
     "data": {
      "image/png": "[encoded data removed]",
      "text/plain": [
       "<Figure size 432x288 with 1 Axes>"
      ]
     },
     "metadata": {
      "needs_background": "light"
     },
     "output_type": "display_data"
    }
   ],
   "source": [
    "# Scatterplot Mid-2021\n",
    "plot7 = df_2021.plot.scatter(x=\"Cost of Living Index\", y=\"Restaurant Price Index\", s=None, c=None)"
   ]
  },
  {
   "cell_type": "code",
   "execution_count": 23,
   "id": "b55a01c5",
   "metadata": {},
   "outputs": [
    {
     "data": {
      "image/png": "[encoded data removed]",
      "text/plain": [
       "<Figure size 432x288 with 1 Axes>"
      ]
     },
     "metadata": {
      "needs_background": "light"
     },
     "output_type": "display_data"
    }
   ],
   "source": [
    "# Scatterplot Mid-2019\n",
    "plot8 = df_2019.plot.scatter(x=\"Cost of Living Index\", y=\"Restaurant Price Index\", s=None, c=None)"
   ]
  },
  {
   "cell_type": "code",
   "execution_count": 24,
   "id": "8e5eef8d",
   "metadata": {},
   "outputs": [
    {
     "data": {
      "image/png": "[encoded data removed]",
      "text/plain": [
       "<Figure size 432x288 with 1 Axes>"
      ]
     },
     "metadata": {
      "needs_background": "light"
     },
     "output_type": "display_data"
    }
   ],
   "source": [
    "# Scatterplot Mid-2021\n",
    "plot9 = df_2021.plot.scatter(x=\"Cost of Living Index\", y=\"Local Purchasing Power Index\", s=None, c=None)"
   ]
  },
  {
   "cell_type": "code",
   "execution_count": 25,
   "id": "e85bb00b",
   "metadata": {},
   "outputs": [
    {
     "data": {
      "image/png": "[encoded data removed]",
      "text/plain": [
       "<Figure size 432x288 with 1 Axes>"
      ]
     },
     "metadata": {
      "needs_background": "light"
     },
     "output_type": "display_data"
    }
   ],
   "source": [
    "# Scatterplot Mid-2019\n",
    "plot10 = df_2019.plot.scatter(x=\"Cost of Living Index\", y=\"Local Purchasing Power Index\", s=None, c=None)"
   ]
  },
  {
   "cell_type": "code",
   "execution_count": 36,
   "id": "440c968b",
   "metadata": {},
   "outputs": [],
   "source": [
    "# Save df_2021 data as csv file\n",
    "df_2021.to_csv('Data\\datafile2021.csv')"
   ]
  },
  {
   "cell_type": "code",
   "execution_count": 37,
   "id": "58ed8083",
   "metadata": {},
   "outputs": [],
   "source": [
    "# Save df_2019 data as csv file\n",
    "df_2019.to_csv('Data\\datafile2019.csv')"
   ]
  }
 ],
 "metadata": {
  "kernelspec": {
   "display_name": "Python 3",
   "language": "python",
   "name": "python3"
  },
  "language_info": {
   "codemirror_mode": {
    "name": "ipython",
    "version": 3
   },
   "file_extension": ".py",
   "mimetype": "text/x-python",
   "name": "python",
   "nbconvert_exporter": "python",
   "pygments_lexer": "ipython3",
   "version": "3.8.8"
  }
 },
 "nbformat": 4,
 "nbformat_minor": 5
}
